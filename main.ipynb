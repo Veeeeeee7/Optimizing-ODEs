{
 "cells": [
  {
   "cell_type": "code",
   "execution_count": 17,
   "metadata": {},
   "outputs": [],
   "source": [
    "import numpy as np\n",
    "import pandas as pd\n",
    "import matplotlib.pyplot as plt\n",
    "from scipy.optimize import minimize"
   ]
  },
  {
   "cell_type": "code",
   "execution_count": 114,
   "metadata": {},
   "outputs": [],
   "source": [
    "df = pd.read_csv('data.csv')\n",
    "\n",
    "t_data = df['Time (s)'].values\n",
    "position_data = df['Position (m)'].values"
   ]
  },
  {
   "cell_type": "code",
   "execution_count": 115,
   "metadata": {},
   "outputs": [
    {
     "name": "stdout",
     "output_type": "stream",
     "text": [
      "Optimal k: 31.673922825614422\n",
      "Optimal n: 3.7329931361945548\n"
     ]
    },
    {
     "data": {
      "image/png": "[encoded data removed]",
      "text/plain": [
       "<Figure size 576x432 with 1 Axes>"
      ]
     },
     "metadata": {
      "needs_background": "light"
     },
     "output_type": "display_data"
    }
   ],
   "source": [
    "import numpy as np\n",
    "from scipy.integrate import solve_ivp\n",
    "from scipy.optimize import curve_fit\n",
    "import matplotlib.pyplot as plt\n",
    "\n",
    "# Define the differential equation for acceleration\n",
    "def acceleration(t, v, k, n):\n",
    "    return 9.8 - k * v**n\n",
    "\n",
    "# Solve the differential equation to get the velocity as a function of time\n",
    "def solve_velocity(k, n, t_eval):\n",
    "    def velocity(t, y):\n",
    "        v = y[0]\n",
    "        dydt = [acceleration(t, v, k, n)]\n",
    "        return dydt\n",
    "\n",
    "    t_span = (t_eval[0], t_eval[-1])  # Adjust the time span\n",
    "    initial_conditions = [0]  # Initial velocity is 0 m/s\n",
    "\n",
    "    solution = solve_ivp(velocity, t_span, initial_conditions, t_eval=t_eval)\n",
    "    return solution.t, solution.y[0]\n",
    "\n",
    "# Define a function to fit the position vs. time data and optimize k and n\n",
    "def fit_position_data(t, y):\n",
    "    def position_function(t, k, n):\n",
    "        _, velocity = solve_velocity(k, n, t)\n",
    "        position = np.trapz(velocity, t)\n",
    "        return position\n",
    "\n",
    "    # Perform curve fitting to find the optimal k and n within the specified ranges\n",
    "    popt, _ = curve_fit(position_function, t, y, bounds=([0, 1], [100, 5]))  # Bounds for k and n\n",
    "\n",
    "    return popt\n",
    "\n",
    "\n",
    "# Fit the data and optimize k and n within the specified ranges\n",
    "optimal_k, optimal_n = fit_position_data(t_data, position_data)\n",
    "\n",
    "# Print the optimized parameters\n",
    "print(f\"Optimal k: {optimal_k}\")\n",
    "print(f\"Optimal n: {optimal_n}\")\n",
    "\n",
    "# Generate the best-fit line using the optimized parameters\n",
    "best_fit_t = np.linspace(min(t_data), max(t_data), 100)\n",
    "best_fit_k, best_fit_n = optimal_k, optimal_n\n",
    "_, best_fit_velocity = solve_velocity(best_fit_k, best_fit_n, best_fit_t)\n",
    "best_fit_position = np.zeros_like(best_fit_t)\n",
    "\n",
    "for i in range(len(best_fit_t)):\n",
    "    best_fit_position[i] = np.trapz(best_fit_velocity[:i+1], best_fit_t[:i+1])\n",
    "\n",
    "# Plot the data and best-fit line\n",
    "plt.figure(figsize=(8, 6))\n",
    "plt.scatter(t_data, position_data, label=\"Data\", color='blue')\n",
    "plt.plot(best_fit_t, best_fit_position, label=\"Best Fit\", color='red')\n",
    "plt.xlabel(\"Time (s)\")\n",
    "plt.ylabel(\"Position (m)\")\n",
    "plt.legend()\n",
    "plt.title(\"Position vs. Time Data with Best Fit Line\")\n",
    "plt.grid(True)\n",
    "plt.show()\n"
   ]
  },
  {
   "cell_type": "code",
   "execution_count": null,
   "metadata": {},
   "outputs": [],
   "source": []
  }
 ],
 "metadata": {
  "kernelspec": {
   "display_name": "base",
   "language": "python",
   "name": "python3"
  },
  "language_info": {
   "codemirror_mode": {
    "name": "ipython",
    "version": 3
   },
   "file_extension": ".py",
   "mimetype": "text/x-python",
   "name": "python",
   "nbconvert_exporter": "python",
   "pygments_lexer": "ipython3",
   "version": "3.9.7"
  }
 },
 "nbformat": 4,
 "nbformat_minor": 2
}
