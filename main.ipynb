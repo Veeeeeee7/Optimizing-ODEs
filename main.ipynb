{
 "cells": [
  {
   "cell_type": "code",
   "execution_count": 17,
   "metadata": {},
   "outputs": [],
   "source": [
    "import numpy as np\n",
    "import pandas as pd\n",
    "import matplotlib.pyplot as plt\n",
    "from scipy.optimize import minimize"
   ]
  },
  {
   "cell_type": "code",
   "execution_count": 22,
   "metadata": {},
   "outputs": [],
   "source": [
    "df = pd.read_csv('data.csv')\n",
    "\n",
    "t_data = df['Time (s)'].values\n",
    "x_data = df['Position (m)'].values"
   ]
  },
  {
   "cell_type": "code",
   "execution_count": 42,
   "metadata": {},
   "outputs": [
    {
     "data": {
      "image/png": "[encoded data removed]",
      "text/plain": [
       "<Figure size 576x432 with 1 Axes>"
      ]
     },
     "metadata": {
      "needs_background": "light"
     },
     "output_type": "display_data"
    },
    {
     "name": "stdout",
     "output_type": "stream",
     "text": [
      "Fitted parameters: k = 8.61269473403251, c = 0.0, t_shift = 0.0\n"
     ]
    }
   ],
   "source": [
    "import numpy as np\n",
    "from scipy.optimize import differential_evolution\n",
    "import matplotlib.pyplot as plt\n",
    "\n",
    "# Define the ODE function for dx/dt = 9.8 - k * (x(t - t_shift))^c\n",
    "def odefunc(t, x, k, c, t_shift):\n",
    "    shifted_x = np.interp(t - t_shift, t_data, x_data, left=0.0)  # Left extrapolation set to 0\n",
    "    return 9.8 - k * (shifted_x)**c\n",
    "\n",
    "# Custom ODE solver using the Euler method\n",
    "def custom_solver(odefunc, t, x0, k, c, t_shift):\n",
    "    x = [x0]\n",
    "    for i in range(1, len(t)):\n",
    "        dt = t[i] - t[i-1]\n",
    "        x_new = x[-1] + odefunc(t[i-1], x[-1], k, c, t_shift) * dt\n",
    "        x.append(x_new)\n",
    "    return np.array(x)\n",
    "\n",
    "# Load your position vs. time data from a CSV file\n",
    "data = np.genfromtxt('data.csv', delimiter=',', skip_header=1)\n",
    "t_data = data[:, 0]\n",
    "x_data = data[:, 1]\n",
    "\n",
    "# Define bounds for parameter values\n",
    "bounds = [(0, 10), (0, 10), (0, 50)]  # Adjust the bounds as needed\n",
    "\n",
    "# Fit the parameters k, c, and t_shift using differential evolution with bounds\n",
    "def error(params):\n",
    "    k, c, t_shift = params\n",
    "    x_pred = custom_solver(odefunc, t_data, x_data[0], k, c, t_shift)\n",
    "    return np.sum((x_pred - x_data)**2)\n",
    "\n",
    "# Use differential evolution for optimization\n",
    "result = differential_evolution(error, bounds, maxiter=1000)\n",
    "k_fit, c_fit, t_shift_fit = result.x\n",
    "\n",
    "# Generate a higher-resolution time array for the fitted data\n",
    "t_fit = np.linspace(t_data[0], t_data[-1] - t_shift_fit, 100)\n",
    "x_fit = custom_solver(odefunc, t_fit, x_data[0], k_fit, c_fit, t_shift_fit)\n",
    "\n",
    "# Plot the original data and the fitted ODE\n",
    "plt.figure(figsize=(8, 6))\n",
    "plt.scatter(t_data, x_data, label='Data', color='blue')\n",
    "plt.plot(t_fit, x_fit, label='Fitted ODE', color='red')\n",
    "plt.xlabel('Time')\n",
    "plt.ylabel('Position')\n",
    "plt.legend()\n",
    "plt.show()\n",
    "\n",
    "print(f\"Fitted parameters: k = {k_fit}, c = {c_fit}, t_shift = {t_shift_fit}\")\n"
   ]
  },
  {
   "cell_type": "code",
   "execution_count": null,
   "metadata": {},
   "outputs": [],
   "source": []
  }
 ],
 "metadata": {
  "kernelspec": {
   "display_name": "base",
   "language": "python",
   "name": "python3"
  },
  "language_info": {
   "codemirror_mode": {
    "name": "ipython",
    "version": 3
   },
   "file_extension": ".py",
   "mimetype": "text/x-python",
   "name": "python",
   "nbconvert_exporter": "python",
   "pygments_lexer": "ipython3",
   "version": "3.9.7"
  }
 },
 "nbformat": 4,
 "nbformat_minor": 2
}
